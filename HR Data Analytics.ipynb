{
 "cells": [
  {
   "cell_type": "code",
   "execution_count": 1,
   "id": "854f836f",
   "metadata": {},
   "outputs": [],
   "source": [
    "## Imports"
   ]
  },
  {
   "cell_type": "code",
   "execution_count": 2,
   "id": "d36901ed",
   "metadata": {},
   "outputs": [],
   "source": [
    "import pandas as pd\n",
    "import numpy as np\n",
    "import matplotlib.pyplot as plt\n",
    "%matplotlib inline\n",
    "import seaborn as sns"
   ]
  },
  {
   "cell_type": "code",
   "execution_count": 3,
   "id": "fbd20f4d",
   "metadata": {},
   "outputs": [],
   "source": [
    "## Importing Datasets"
   ]
  },
  {
   "cell_type": "code",
   "execution_count": 4,
   "id": "54d2946c",
   "metadata": {},
   "outputs": [],
   "source": [
    "df_train=pd.read_csv('train_LZdllcl.csv')\n",
    "df_test=pd.read_csv('test_2umaH9m.csv')"
   ]
  },
  {
   "cell_type": "code",
   "execution_count": 5,
   "id": "b3368f10",
   "metadata": {},
   "outputs": [],
   "source": [
    "## Visual glance at the dataset"
   ]
  },
  {
   "cell_type": "code",
   "execution_count": 6,
   "id": "d35350a3",
   "metadata": {},
   "outputs": [
    {
     "data": {
      "text/html": [
       "<div>\n",
       "<style scoped>\n",
       "    .dataframe tbody tr th:only-of-type {\n",
       "        vertical-align: middle;\n",
       "    }\n",
       "\n",
       "    .dataframe tbody tr th {\n",
       "        vertical-align: top;\n",
       "    }\n",
       "\n",
       "    .dataframe thead th {\n",
       "        text-align: right;\n",
       "    }\n",
       "</style>\n",
       "<table border=\"1\" class=\"dataframe\">\n",
       "  <thead>\n",
       "    <tr style=\"text-align: right;\">\n",
       "      <th></th>\n",
       "      <th>employee_id</th>\n",
       "      <th>department</th>\n",
       "      <th>region</th>\n",
       "      <th>education</th>\n",
       "      <th>gender</th>\n",
       "      <th>recruitment_channel</th>\n",
       "      <th>no_of_trainings</th>\n",
       "      <th>age</th>\n",
       "      <th>previous_year_rating</th>\n",
       "      <th>length_of_service</th>\n",
       "      <th>KPIs_met &gt;80%</th>\n",
       "      <th>awards_won?</th>\n",
       "      <th>avg_training_score</th>\n",
       "      <th>is_promoted</th>\n",
       "    </tr>\n",
       "  </thead>\n",
       "  <tbody>\n",
       "    <tr>\n",
       "      <th>0</th>\n",
       "      <td>65438</td>\n",
       "      <td>Sales &amp; Marketing</td>\n",
       "      <td>region_7</td>\n",
       "      <td>Master's &amp; above</td>\n",
       "      <td>f</td>\n",
       "      <td>sourcing</td>\n",
       "      <td>1</td>\n",
       "      <td>35</td>\n",
       "      <td>5.0</td>\n",
       "      <td>8</td>\n",
       "      <td>1</td>\n",
       "      <td>0</td>\n",
       "      <td>49</td>\n",
       "      <td>0</td>\n",
       "    </tr>\n",
       "    <tr>\n",
       "      <th>1</th>\n",
       "      <td>65141</td>\n",
       "      <td>Operations</td>\n",
       "      <td>region_22</td>\n",
       "      <td>Bachelor's</td>\n",
       "      <td>m</td>\n",
       "      <td>other</td>\n",
       "      <td>1</td>\n",
       "      <td>30</td>\n",
       "      <td>5.0</td>\n",
       "      <td>4</td>\n",
       "      <td>0</td>\n",
       "      <td>0</td>\n",
       "      <td>60</td>\n",
       "      <td>0</td>\n",
       "    </tr>\n",
       "  </tbody>\n",
       "</table>\n",
       "</div>"
      ],
      "text/plain": [
       "   employee_id         department     region         education gender  \\\n",
       "0        65438  Sales & Marketing   region_7  Master's & above      f   \n",
       "1        65141         Operations  region_22        Bachelor's      m   \n",
       "\n",
       "  recruitment_channel  no_of_trainings  age  previous_year_rating  \\\n",
       "0            sourcing                1   35                   5.0   \n",
       "1               other                1   30                   5.0   \n",
       "\n",
       "   length_of_service  KPIs_met >80%  awards_won?  avg_training_score  \\\n",
       "0                  8              1            0                  49   \n",
       "1                  4              0            0                  60   \n",
       "\n",
       "   is_promoted  \n",
       "0            0  \n",
       "1            0  "
      ]
     },
     "execution_count": 6,
     "metadata": {},
     "output_type": "execute_result"
    }
   ],
   "source": [
    "df_train.head(2)"
   ]
  },
  {
   "cell_type": "code",
   "execution_count": 7,
   "id": "c1603d1c",
   "metadata": {},
   "outputs": [
    {
     "data": {
      "text/html": [
       "<div>\n",
       "<style scoped>\n",
       "    .dataframe tbody tr th:only-of-type {\n",
       "        vertical-align: middle;\n",
       "    }\n",
       "\n",
       "    .dataframe tbody tr th {\n",
       "        vertical-align: top;\n",
       "    }\n",
       "\n",
       "    .dataframe thead th {\n",
       "        text-align: right;\n",
       "    }\n",
       "</style>\n",
       "<table border=\"1\" class=\"dataframe\">\n",
       "  <thead>\n",
       "    <tr style=\"text-align: right;\">\n",
       "      <th></th>\n",
       "      <th>employee_id</th>\n",
       "      <th>department</th>\n",
       "      <th>region</th>\n",
       "      <th>education</th>\n",
       "      <th>gender</th>\n",
       "      <th>recruitment_channel</th>\n",
       "      <th>no_of_trainings</th>\n",
       "      <th>age</th>\n",
       "      <th>previous_year_rating</th>\n",
       "      <th>length_of_service</th>\n",
       "      <th>KPIs_met &gt;80%</th>\n",
       "      <th>awards_won?</th>\n",
       "      <th>avg_training_score</th>\n",
       "    </tr>\n",
       "  </thead>\n",
       "  <tbody>\n",
       "    <tr>\n",
       "      <th>0</th>\n",
       "      <td>8724</td>\n",
       "      <td>Technology</td>\n",
       "      <td>region_26</td>\n",
       "      <td>Bachelor's</td>\n",
       "      <td>m</td>\n",
       "      <td>sourcing</td>\n",
       "      <td>1</td>\n",
       "      <td>24</td>\n",
       "      <td>NaN</td>\n",
       "      <td>1</td>\n",
       "      <td>1</td>\n",
       "      <td>0</td>\n",
       "      <td>77</td>\n",
       "    </tr>\n",
       "    <tr>\n",
       "      <th>1</th>\n",
       "      <td>74430</td>\n",
       "      <td>HR</td>\n",
       "      <td>region_4</td>\n",
       "      <td>Bachelor's</td>\n",
       "      <td>f</td>\n",
       "      <td>other</td>\n",
       "      <td>1</td>\n",
       "      <td>31</td>\n",
       "      <td>3.0</td>\n",
       "      <td>5</td>\n",
       "      <td>0</td>\n",
       "      <td>0</td>\n",
       "      <td>51</td>\n",
       "    </tr>\n",
       "  </tbody>\n",
       "</table>\n",
       "</div>"
      ],
      "text/plain": [
       "   employee_id  department     region   education gender recruitment_channel  \\\n",
       "0         8724  Technology  region_26  Bachelor's      m            sourcing   \n",
       "1        74430          HR   region_4  Bachelor's      f               other   \n",
       "\n",
       "   no_of_trainings  age  previous_year_rating  length_of_service  \\\n",
       "0                1   24                   NaN                  1   \n",
       "1                1   31                   3.0                  5   \n",
       "\n",
       "   KPIs_met >80%  awards_won?  avg_training_score  \n",
       "0              1            0                  77  \n",
       "1              0            0                  51  "
      ]
     },
     "execution_count": 7,
     "metadata": {},
     "output_type": "execute_result"
    }
   ],
   "source": [
    "df_test.head(2)"
   ]
  },
  {
   "cell_type": "code",
   "execution_count": 8,
   "id": "860bc2c4",
   "metadata": {},
   "outputs": [],
   "source": [
    "## Basic information about the dataset"
   ]
  },
  {
   "cell_type": "code",
   "execution_count": 9,
   "id": "20fba821",
   "metadata": {},
   "outputs": [
    {
     "data": {
      "text/plain": [
       "(54808, 14)"
      ]
     },
     "execution_count": 9,
     "metadata": {},
     "output_type": "execute_result"
    }
   ],
   "source": [
    "df_train.shape"
   ]
  },
  {
   "cell_type": "code",
   "execution_count": 10,
   "id": "3a3eddf0",
   "metadata": {},
   "outputs": [
    {
     "data": {
      "text/plain": [
       "0"
      ]
     },
     "execution_count": 10,
     "metadata": {},
     "output_type": "execute_result"
    }
   ],
   "source": [
    "df_train.duplicated().sum()"
   ]
  },
  {
   "cell_type": "code",
   "execution_count": 11,
   "id": "b5fca3b9",
   "metadata": {},
   "outputs": [
    {
     "data": {
      "text/plain": [
       "employee_id                0\n",
       "department                 0\n",
       "region                     0\n",
       "education               2409\n",
       "gender                     0\n",
       "recruitment_channel        0\n",
       "no_of_trainings            0\n",
       "age                        0\n",
       "previous_year_rating    4124\n",
       "length_of_service          0\n",
       "KPIs_met >80%              0\n",
       "awards_won?                0\n",
       "avg_training_score         0\n",
       "is_promoted                0\n",
       "dtype: int64"
      ]
     },
     "execution_count": 11,
     "metadata": {},
     "output_type": "execute_result"
    }
   ],
   "source": [
    "df_train.isnull().sum()"
   ]
  },
  {
   "cell_type": "code",
   "execution_count": 12,
   "id": "7dc34ca9",
   "metadata": {},
   "outputs": [],
   "source": [
    "df_train['education'].fillna(df_train['education'].mode(),inplace=True)"
   ]
  },
  {
   "cell_type": "code",
   "execution_count": 13,
   "id": "43d2b1fe",
   "metadata": {},
   "outputs": [
    {
     "data": {
      "text/plain": [
       "employee_id               int64\n",
       "department               object\n",
       "region                   object\n",
       "education                object\n",
       "gender                   object\n",
       "recruitment_channel      object\n",
       "no_of_trainings           int64\n",
       "age                       int64\n",
       "previous_year_rating    float64\n",
       "length_of_service         int64\n",
       "KPIs_met >80%             int64\n",
       "awards_won?               int64\n",
       "avg_training_score        int64\n",
       "is_promoted               int64\n",
       "dtype: object"
      ]
     },
     "execution_count": 13,
     "metadata": {},
     "output_type": "execute_result"
    }
   ],
   "source": [
    "df_train.dtypes"
   ]
  },
  {
   "cell_type": "code",
   "execution_count": 14,
   "id": "943605b5",
   "metadata": {},
   "outputs": [],
   "source": [
    "## Basic EDA"
   ]
  },
  {
   "cell_type": "code",
   "execution_count": 15,
   "id": "27ed3d0d",
   "metadata": {},
   "outputs": [
    {
     "data": {
      "text/plain": [
       "array(['Sales & Marketing', 'Operations', 'Technology', 'Analytics',\n",
       "       'R&D', 'Procurement', 'Finance', 'HR', 'Legal'], dtype=object)"
      ]
     },
     "execution_count": 15,
     "metadata": {},
     "output_type": "execute_result"
    }
   ],
   "source": [
    "df_train.department.unique()"
   ]
  },
  {
   "cell_type": "code",
   "execution_count": 16,
   "id": "dc6f00ce",
   "metadata": {},
   "outputs": [
    {
     "data": {
      "text/plain": [
       "34"
      ]
     },
     "execution_count": 16,
     "metadata": {},
     "output_type": "execute_result"
    }
   ],
   "source": [
    "df_train.region.nunique()"
   ]
  },
  {
   "cell_type": "code",
   "execution_count": 17,
   "id": "c13d3250",
   "metadata": {},
   "outputs": [
    {
     "data": {
      "text/plain": [
       "array([\"Master's & above\", \"Bachelor's\", nan, 'Below Secondary'],\n",
       "      dtype=object)"
      ]
     },
     "execution_count": 17,
     "metadata": {},
     "output_type": "execute_result"
    }
   ],
   "source": [
    "df_train.education.unique()"
   ]
  },
  {
   "cell_type": "code",
   "execution_count": 18,
   "id": "e7d6e5ed",
   "metadata": {},
   "outputs": [
    {
     "data": {
      "text/plain": [
       "array(['sourcing', 'other', 'referred'], dtype=object)"
      ]
     },
     "execution_count": 18,
     "metadata": {},
     "output_type": "execute_result"
    }
   ],
   "source": [
    "df_train['recruitment_channel'].unique()"
   ]
  },
  {
   "cell_type": "code",
   "execution_count": 19,
   "id": "64b3191a",
   "metadata": {},
   "outputs": [
    {
     "data": {
      "text/plain": [
       "department\n",
       "Analytics             5352\n",
       "Finance               2536\n",
       "HR                    2418\n",
       "Legal                 1039\n",
       "Operations           11348\n",
       "Procurement           7138\n",
       "R&D                    999\n",
       "Sales & Marketing    16840\n",
       "Technology            7138\n",
       "Name: employee_id, dtype: int64"
      ]
     },
     "execution_count": 19,
     "metadata": {},
     "output_type": "execute_result"
    }
   ],
   "source": [
    "df_train.groupby(by='department')['employee_id'].count()"
   ]
  },
  {
   "cell_type": "code",
   "execution_count": 20,
   "id": "f1da0398",
   "metadata": {
    "scrolled": true
   },
   "outputs": [
    {
     "data": {
      "text/plain": [
       "region\n",
       "region_1       610\n",
       "region_10      648\n",
       "region_11     1315\n",
       "region_12      500\n",
       "region_13     2648\n",
       "region_14      827\n",
       "region_15     2808\n",
       "region_16     1465\n",
       "region_17      796\n",
       "region_18       31\n",
       "region_19      874\n",
       "region_2     12343\n",
       "region_20      850\n",
       "region_21      411\n",
       "region_22     6428\n",
       "region_23     1175\n",
       "region_24      508\n",
       "region_25      819\n",
       "region_26     2260\n",
       "region_27     1659\n",
       "region_28     1318\n",
       "region_29      994\n",
       "region_3       346\n",
       "region_30      657\n",
       "region_31     1935\n",
       "region_32      945\n",
       "region_33      269\n",
       "region_34      292\n",
       "region_4      1703\n",
       "region_5       766\n",
       "region_6       690\n",
       "region_7      4843\n",
       "region_8       655\n",
       "region_9       420\n",
       "Name: employee_id, dtype: int64"
      ]
     },
     "execution_count": 20,
     "metadata": {},
     "output_type": "execute_result"
    }
   ],
   "source": [
    "df_train.groupby(by='region')['employee_id'].count()"
   ]
  },
  {
   "cell_type": "code",
   "execution_count": 21,
   "id": "b5517daf",
   "metadata": {},
   "outputs": [
    {
     "data": {
      "text/plain": [
       "education\n",
       "Bachelor's          36669\n",
       "Below Secondary       805\n",
       "Master's & above    14925\n",
       "Name: employee_id, dtype: int64"
      ]
     },
     "execution_count": 21,
     "metadata": {},
     "output_type": "execute_result"
    }
   ],
   "source": [
    "df_train.groupby(by='education')['employee_id'].count()"
   ]
  },
  {
   "cell_type": "code",
   "execution_count": 22,
   "id": "553d9fd9",
   "metadata": {},
   "outputs": [
    {
     "data": {
      "text/plain": [
       "gender\n",
       "f    16312\n",
       "m    38496\n",
       "Name: employee_id, dtype: int64"
      ]
     },
     "execution_count": 22,
     "metadata": {},
     "output_type": "execute_result"
    }
   ],
   "source": [
    "df_train.groupby(by='gender')['employee_id'].count()"
   ]
  },
  {
   "cell_type": "code",
   "execution_count": 23,
   "id": "aef90af9",
   "metadata": {},
   "outputs": [
    {
     "data": {
      "text/plain": [
       "recruitment_channel\n",
       "other       30446\n",
       "referred     1142\n",
       "sourcing    23220\n",
       "Name: employee_id, dtype: int64"
      ]
     },
     "execution_count": 23,
     "metadata": {},
     "output_type": "execute_result"
    }
   ],
   "source": [
    "df_train.groupby(by='recruitment_channel')['employee_id'].count()"
   ]
  },
  {
   "cell_type": "code",
   "execution_count": 24,
   "id": "bb1ec90f",
   "metadata": {},
   "outputs": [
    {
     "data": {
      "text/plain": [
       "KPIs_met >80%\n",
       "0    35517\n",
       "1    19291\n",
       "Name: employee_id, dtype: int64"
      ]
     },
     "execution_count": 24,
     "metadata": {},
     "output_type": "execute_result"
    }
   ],
   "source": [
    "df_train.groupby(by='KPIs_met >80%')['employee_id'].count()"
   ]
  },
  {
   "cell_type": "code",
   "execution_count": 25,
   "id": "a7c26cc3",
   "metadata": {},
   "outputs": [
    {
     "data": {
      "text/plain": [
       "5"
      ]
     },
     "execution_count": 25,
     "metadata": {},
     "output_type": "execute_result"
    }
   ],
   "source": [
    "df_train['previous_year_rating'].nunique()"
   ]
  },
  {
   "cell_type": "code",
   "execution_count": 26,
   "id": "021c0e76",
   "metadata": {},
   "outputs": [
    {
     "data": {
      "text/plain": [
       "previous_year_rating\n",
       "1.0     6223\n",
       "2.0     4225\n",
       "3.0    18618\n",
       "4.0     9877\n",
       "5.0    11741\n",
       "Name: employee_id, dtype: int64"
      ]
     },
     "execution_count": 26,
     "metadata": {},
     "output_type": "execute_result"
    }
   ],
   "source": [
    "df_train.groupby(by='previous_year_rating')['employee_id'].count()"
   ]
  },
  {
   "cell_type": "code",
   "execution_count": 27,
   "id": "30d37ad6",
   "metadata": {},
   "outputs": [
    {
     "data": {
      "text/plain": [
       "awards_won?\n",
       "0    53538\n",
       "1     1270\n",
       "Name: employee_id, dtype: int64"
      ]
     },
     "execution_count": 27,
     "metadata": {},
     "output_type": "execute_result"
    }
   ],
   "source": [
    "df_train.groupby(by='awards_won?')['employee_id'].count()"
   ]
  },
  {
   "cell_type": "code",
   "execution_count": 28,
   "id": "ff7c24f1",
   "metadata": {},
   "outputs": [],
   "source": [
    "## Let's check how many people got promoted this year."
   ]
  },
  {
   "cell_type": "code",
   "execution_count": 29,
   "id": "4f0f1d4d",
   "metadata": {},
   "outputs": [
    {
     "data": {
      "text/plain": [
       "0    50140\n",
       "1     4668\n",
       "Name: is_promoted, dtype: int64"
      ]
     },
     "execution_count": 29,
     "metadata": {},
     "output_type": "execute_result"
    }
   ],
   "source": [
    "df_train['is_promoted'].value_counts()"
   ]
  },
  {
   "cell_type": "code",
   "execution_count": 30,
   "id": "b2fd63b3",
   "metadata": {},
   "outputs": [],
   "source": [
    "## Let's check how these parameters impact the promotion of an employee."
   ]
  },
  {
   "cell_type": "code",
   "execution_count": 31,
   "id": "8c9f8682",
   "metadata": {},
   "outputs": [
    {
     "data": {
      "text/plain": [
       "Index(['employee_id', 'department', 'region', 'education', 'gender',\n",
       "       'recruitment_channel', 'no_of_trainings', 'age', 'previous_year_rating',\n",
       "       'length_of_service', 'KPIs_met >80%', 'awards_won?',\n",
       "       'avg_training_score', 'is_promoted'],\n",
       "      dtype='object')"
      ]
     },
     "execution_count": 31,
     "metadata": {},
     "output_type": "execute_result"
    }
   ],
   "source": [
    "df_train.columns"
   ]
  },
  {
   "cell_type": "code",
   "execution_count": 32,
   "id": "da64c671",
   "metadata": {},
   "outputs": [
    {
     "data": {
      "text/plain": [
       "department         is_promoted\n",
       "Analytics          0               4840\n",
       "                   1                512\n",
       "Finance            0               2330\n",
       "                   1                206\n",
       "HR                 0               2282\n",
       "                   1                136\n",
       "Legal              0                986\n",
       "                   1                 53\n",
       "Operations         0              10325\n",
       "                   1               1023\n",
       "Procurement        0               6450\n",
       "                   1                688\n",
       "R&D                0                930\n",
       "                   1                 69\n",
       "Sales & Marketing  0              15627\n",
       "                   1               1213\n",
       "Technology         0               6370\n",
       "                   1                768\n",
       "Name: is_promoted, dtype: int64"
      ]
     },
     "execution_count": 32,
     "metadata": {},
     "output_type": "execute_result"
    }
   ],
   "source": [
    "df_train.groupby('department')['is_promoted'].value_counts()"
   ]
  },
  {
   "cell_type": "code",
   "execution_count": 33,
   "id": "822640d2",
   "metadata": {},
   "outputs": [
    {
     "data": {
      "text/plain": [
       "region     is_promoted\n",
       "region_1   0               552\n",
       "           1                58\n",
       "region_10  0               597\n",
       "           1                51\n",
       "region_11  0              1241\n",
       "                          ... \n",
       "region_7   1               516\n",
       "region_8   0               602\n",
       "           1                53\n",
       "region_9   0               412\n",
       "           1                 8\n",
       "Name: is_promoted, Length: 68, dtype: int64"
      ]
     },
     "execution_count": 33,
     "metadata": {},
     "output_type": "execute_result"
    }
   ],
   "source": [
    "df_train.groupby(by='region')['is_promoted'].value_counts()"
   ]
  },
  {
   "cell_type": "code",
   "execution_count": 34,
   "id": "98e77e3b",
   "metadata": {},
   "outputs": [
    {
     "data": {
      "text/plain": [
       "education         is_promoted\n",
       "Bachelor's        0              33661\n",
       "                  1               3008\n",
       "Below Secondary   0                738\n",
       "                  1                 67\n",
       "Master's & above  0              13454\n",
       "                  1               1471\n",
       "Name: is_promoted, dtype: int64"
      ]
     },
     "execution_count": 34,
     "metadata": {},
     "output_type": "execute_result"
    }
   ],
   "source": [
    "df_train.groupby(by='education')['is_promoted'].value_counts()"
   ]
  },
  {
   "cell_type": "code",
   "execution_count": 35,
   "id": "43dd8602",
   "metadata": {},
   "outputs": [
    {
     "data": {
      "text/plain": [
       "gender  is_promoted\n",
       "f       0              14845\n",
       "        1               1467\n",
       "m       0              35295\n",
       "        1               3201\n",
       "Name: is_promoted, dtype: int64"
      ]
     },
     "execution_count": 35,
     "metadata": {},
     "output_type": "execute_result"
    }
   ],
   "source": [
    "df_train.groupby(by='gender')['is_promoted'].value_counts()"
   ]
  },
  {
   "cell_type": "code",
   "execution_count": 36,
   "id": "837d21d0",
   "metadata": {},
   "outputs": [
    {
     "data": {
      "text/plain": [
       "recruitment_channel  is_promoted\n",
       "other                0              27890\n",
       "                     1               2556\n",
       "referred             0               1004\n",
       "                     1                138\n",
       "sourcing             0              21246\n",
       "                     1               1974\n",
       "Name: is_promoted, dtype: int64"
      ]
     },
     "execution_count": 36,
     "metadata": {},
     "output_type": "execute_result"
    }
   ],
   "source": [
    "df_train.groupby(by='recruitment_channel')['is_promoted'].value_counts()"
   ]
  },
  {
   "cell_type": "code",
   "execution_count": 37,
   "id": "f236510c",
   "metadata": {},
   "outputs": [
    {
     "data": {
      "text/plain": [
       "no_of_trainings  is_promoted\n",
       "1                0              40468\n",
       "                 1               3910\n",
       "2                0               7382\n",
       "                 1                605\n",
       "3                0               1654\n",
       "                 1                122\n",
       "4                0                442\n",
       "                 1                 26\n",
       "5                0                125\n",
       "                 1                  3\n",
       "6                0                 42\n",
       "                 1                  2\n",
       "7                0                 12\n",
       "8                0                  5\n",
       "9                0                  5\n",
       "10               0                  5\n",
       "Name: is_promoted, dtype: int64"
      ]
     },
     "execution_count": 37,
     "metadata": {},
     "output_type": "execute_result"
    }
   ],
   "source": [
    "df_train.groupby(by='no_of_trainings')['is_promoted'].value_counts()"
   ]
  },
  {
   "cell_type": "code",
   "execution_count": 38,
   "id": "e5eca7e0",
   "metadata": {},
   "outputs": [
    {
     "data": {
      "text/plain": [
       "previous_year_rating  is_promoted\n",
       "1.0                   0               6135\n",
       "                      1                 88\n",
       "2.0                   0               4044\n",
       "                      1                181\n",
       "3.0                   0              17263\n",
       "                      1               1355\n",
       "4.0                   0               9093\n",
       "                      1                784\n",
       "5.0                   0               9820\n",
       "                      1               1921\n",
       "Name: is_promoted, dtype: int64"
      ]
     },
     "execution_count": 38,
     "metadata": {},
     "output_type": "execute_result"
    }
   ],
   "source": [
    "df_train.groupby(by='previous_year_rating')['is_promoted'].value_counts()"
   ]
  },
  {
   "cell_type": "code",
   "execution_count": 39,
   "id": "1b11db9e",
   "metadata": {},
   "outputs": [
    {
     "data": {
      "text/plain": [
       "KPIs_met >80%  is_promoted\n",
       "0              0              34111\n",
       "               1               1406\n",
       "1              0              16029\n",
       "               1               3262\n",
       "Name: is_promoted, dtype: int64"
      ]
     },
     "execution_count": 39,
     "metadata": {},
     "output_type": "execute_result"
    }
   ],
   "source": [
    "df_train.groupby(by='KPIs_met >80%')['is_promoted'].value_counts()"
   ]
  },
  {
   "cell_type": "code",
   "execution_count": 40,
   "id": "2e3f9ad9",
   "metadata": {},
   "outputs": [
    {
     "data": {
      "text/plain": [
       "awards_won?  is_promoted\n",
       "0            0              49429\n",
       "             1               4109\n",
       "1            0                711\n",
       "             1                559\n",
       "Name: is_promoted, dtype: int64"
      ]
     },
     "execution_count": 40,
     "metadata": {},
     "output_type": "execute_result"
    }
   ],
   "source": [
    "df_train.groupby(by='awards_won?')['is_promoted'].value_counts()"
   ]
  },
  {
   "cell_type": "code",
   "execution_count": 41,
   "id": "093e2b5e",
   "metadata": {},
   "outputs": [
    {
     "data": {
      "text/plain": [
       "<AxesSubplot: xlabel='age', ylabel='Count'>"
      ]
     },
     "execution_count": 41,
     "metadata": {},
     "output_type": "execute_result"
    },
    {
     "data": {
      "image/png": "[encoded data removed]",
      "text/plain": [
       "<Figure size 432x288 with 1 Axes>"
      ]
     },
     "metadata": {
      "needs_background": "light"
     },
     "output_type": "display_data"
    }
   ],
   "source": [
    "sns.histplot(df_train['age'])"
   ]
  },
  {
   "cell_type": "code",
   "execution_count": 42,
   "id": "e20e6b4f",
   "metadata": {
    "scrolled": false
   },
   "outputs": [
    {
     "data": {
      "image/png": "[encoded data removed]",
      "text/plain": [
       "<Figure size 1080x432 with 1 Axes>"
      ]
     },
     "metadata": {
      "needs_background": "light"
     },
     "output_type": "display_data"
    },
    {
     "data": {
      "image/png": "[encoded data removed]",
      "text/plain": [
       "<Figure size 1080x432 with 1 Axes>"
      ]
     },
     "metadata": {
      "needs_background": "light"
     },
     "output_type": "display_data"
    },
    {
     "data": {
      "image/png": "[encoded data removed]",
      "text/plain": [
       "<Figure size 1080x432 with 1 Axes>"
      ]
     },
     "metadata": {
      "needs_background": "light"
     },
     "output_type": "display_data"
    },
    {
     "data": {
      "image/png": "[encoded data removed]",
      "text/plain": [
       "<Figure size 1080x432 with 1 Axes>"
      ]
     },
     "metadata": {
      "needs_background": "light"
     },
     "output_type": "display_data"
    },
    {
     "data": {
      "image/png": "[encoded data removed]",
      "text/plain": [
       "<Figure size 1080x432 with 1 Axes>"
      ]
     },
     "metadata": {
      "needs_background": "light"
     },
     "output_type": "display_data"
    },
    {
     "data": {
      "image/png": "[encoded data removed]",
      "text/plain": [
       "<Figure size 1080x432 with 1 Axes>"
      ]
     },
     "metadata": {
      "needs_background": "light"
     },
     "output_type": "display_data"
    },
    {
     "data": {
      "image/png": "[encoded data removed]",
      "text/plain": [
       "<Figure size 1080x432 with 1 Axes>"
      ]
     },
     "metadata": {
      "needs_background": "light"
     },
     "output_type": "display_data"
    },
    {
     "data": {
      "image/png": "[encoded data removed]",
      "text/plain": [
       "<Figure size 1080x432 with 1 Axes>"
      ]
     },
     "metadata": {
      "needs_background": "light"
     },
     "output_type": "display_data"
    },
    {
     "data": {
      "image/png": "[encoded data removed]",
      "text/plain": [
       "<Figure size 1080x432 with 1 Axes>"
      ]
     },
     "metadata": {
      "needs_background": "light"
     },
     "output_type": "display_data"
    }
   ],
   "source": [
    "cat=['department', 'region', 'education', 'gender',\n",
    "       'recruitment_channel', 'no_of_trainings', 'previous_year_rating',\n",
    "       'KPIs_met >80%', 'awards_won?']\n",
    "for i in cat:\n",
    "    fig, ax = plt.subplots(1,1, figsize=(15, 6))\n",
    "    sns.countplot(y = df_train[i][1:],data=df_train,hue=df_train['is_promoted'])"
   ]
  },
  {
   "cell_type": "code",
   "execution_count": 43,
   "id": "38339248",
   "metadata": {},
   "outputs": [],
   "source": [
    "## Now that we have basic ideas about the dataset, we need to preprocess the data in order to make predictions."
   ]
  },
  {
   "cell_type": "code",
   "execution_count": 44,
   "id": "0617714c",
   "metadata": {},
   "outputs": [
    {
     "data": {
      "text/plain": [
       "employee_id               int64\n",
       "department               object\n",
       "region                   object\n",
       "education                object\n",
       "gender                   object\n",
       "recruitment_channel      object\n",
       "no_of_trainings           int64\n",
       "age                       int64\n",
       "previous_year_rating    float64\n",
       "length_of_service         int64\n",
       "KPIs_met >80%             int64\n",
       "awards_won?               int64\n",
       "avg_training_score        int64\n",
       "is_promoted               int64\n",
       "dtype: object"
      ]
     },
     "execution_count": 44,
     "metadata": {},
     "output_type": "execute_result"
    }
   ],
   "source": [
    "## Let's change the datatype first as per our need.\n",
    "df_train.dtypes"
   ]
  },
  {
   "cell_type": "code",
   "execution_count": 45,
   "id": "541c2127",
   "metadata": {},
   "outputs": [],
   "source": [
    "from sklearn.preprocessing import LabelEncoder"
   ]
  },
  {
   "cell_type": "code",
   "execution_count": 46,
   "id": "daa86d78",
   "metadata": {},
   "outputs": [],
   "source": [
    "le=LabelEncoder()\n",
    "df_train['education']=le.fit_transform(df_train['education'])\n",
    "df_train['education'].fillna(df_train['education'].mode(),inplace=True)\n",
    "df_train['previous_year_rating']=le.fit_transform(df_train['previous_year_rating'])\n",
    "df_train['previous_year_rating'].fillna(df_train['previous_year_rating'].mode(),inplace=True)"
   ]
  },
  {
   "cell_type": "code",
   "execution_count": 47,
   "id": "9b4c13c4",
   "metadata": {},
   "outputs": [],
   "source": [
    "df_train_encoded=pd.get_dummies(data=df_train,columns=['department','education','gender','recruitment_channel','KPIs_met >80%','awards_won?','region','no_of_trainings'])"
   ]
  },
  {
   "cell_type": "code",
   "execution_count": 48,
   "id": "5c01e6a6",
   "metadata": {},
   "outputs": [
    {
     "data": {
      "text/plain": [
       "employee_id             0\n",
       "age                     0\n",
       "previous_year_rating    0\n",
       "length_of_service       0\n",
       "avg_training_score      0\n",
       "                       ..\n",
       "no_of_trainings_6       0\n",
       "no_of_trainings_7       0\n",
       "no_of_trainings_8       0\n",
       "no_of_trainings_9       0\n",
       "no_of_trainings_10      0\n",
       "Length: 72, dtype: int64"
      ]
     },
     "execution_count": 48,
     "metadata": {},
     "output_type": "execute_result"
    }
   ],
   "source": [
    "df_train_encoded.isnull().sum()"
   ]
  },
  {
   "cell_type": "code",
   "execution_count": 49,
   "id": "1c3216e7",
   "metadata": {},
   "outputs": [],
   "source": [
    "df_train_encoded.drop('employee_id',axis=1,inplace=True)"
   ]
  },
  {
   "cell_type": "code",
   "execution_count": 50,
   "id": "035d77e4",
   "metadata": {},
   "outputs": [
    {
     "data": {
      "text/html": [
       "<div>\n",
       "<style scoped>\n",
       "    .dataframe tbody tr th:only-of-type {\n",
       "        vertical-align: middle;\n",
       "    }\n",
       "\n",
       "    .dataframe tbody tr th {\n",
       "        vertical-align: top;\n",
       "    }\n",
       "\n",
       "    .dataframe thead th {\n",
       "        text-align: right;\n",
       "    }\n",
       "</style>\n",
       "<table border=\"1\" class=\"dataframe\">\n",
       "  <thead>\n",
       "    <tr style=\"text-align: right;\">\n",
       "      <th></th>\n",
       "      <th>age</th>\n",
       "      <th>previous_year_rating</th>\n",
       "      <th>length_of_service</th>\n",
       "      <th>avg_training_score</th>\n",
       "      <th>is_promoted</th>\n",
       "      <th>department_Analytics</th>\n",
       "      <th>department_Finance</th>\n",
       "      <th>department_HR</th>\n",
       "      <th>department_Legal</th>\n",
       "      <th>department_Operations</th>\n",
       "      <th>...</th>\n",
       "      <th>no_of_trainings_1</th>\n",
       "      <th>no_of_trainings_2</th>\n",
       "      <th>no_of_trainings_3</th>\n",
       "      <th>no_of_trainings_4</th>\n",
       "      <th>no_of_trainings_5</th>\n",
       "      <th>no_of_trainings_6</th>\n",
       "      <th>no_of_trainings_7</th>\n",
       "      <th>no_of_trainings_8</th>\n",
       "      <th>no_of_trainings_9</th>\n",
       "      <th>no_of_trainings_10</th>\n",
       "    </tr>\n",
       "  </thead>\n",
       "  <tbody>\n",
       "    <tr>\n",
       "      <th>0</th>\n",
       "      <td>35</td>\n",
       "      <td>4</td>\n",
       "      <td>8</td>\n",
       "      <td>49</td>\n",
       "      <td>0</td>\n",
       "      <td>0</td>\n",
       "      <td>0</td>\n",
       "      <td>0</td>\n",
       "      <td>0</td>\n",
       "      <td>0</td>\n",
       "      <td>...</td>\n",
       "      <td>1</td>\n",
       "      <td>0</td>\n",
       "      <td>0</td>\n",
       "      <td>0</td>\n",
       "      <td>0</td>\n",
       "      <td>0</td>\n",
       "      <td>0</td>\n",
       "      <td>0</td>\n",
       "      <td>0</td>\n",
       "      <td>0</td>\n",
       "    </tr>\n",
       "    <tr>\n",
       "      <th>1</th>\n",
       "      <td>30</td>\n",
       "      <td>4</td>\n",
       "      <td>4</td>\n",
       "      <td>60</td>\n",
       "      <td>0</td>\n",
       "      <td>0</td>\n",
       "      <td>0</td>\n",
       "      <td>0</td>\n",
       "      <td>0</td>\n",
       "      <td>1</td>\n",
       "      <td>...</td>\n",
       "      <td>1</td>\n",
       "      <td>0</td>\n",
       "      <td>0</td>\n",
       "      <td>0</td>\n",
       "      <td>0</td>\n",
       "      <td>0</td>\n",
       "      <td>0</td>\n",
       "      <td>0</td>\n",
       "      <td>0</td>\n",
       "      <td>0</td>\n",
       "    </tr>\n",
       "    <tr>\n",
       "      <th>2</th>\n",
       "      <td>34</td>\n",
       "      <td>2</td>\n",
       "      <td>7</td>\n",
       "      <td>50</td>\n",
       "      <td>0</td>\n",
       "      <td>0</td>\n",
       "      <td>0</td>\n",
       "      <td>0</td>\n",
       "      <td>0</td>\n",
       "      <td>0</td>\n",
       "      <td>...</td>\n",
       "      <td>1</td>\n",
       "      <td>0</td>\n",
       "      <td>0</td>\n",
       "      <td>0</td>\n",
       "      <td>0</td>\n",
       "      <td>0</td>\n",
       "      <td>0</td>\n",
       "      <td>0</td>\n",
       "      <td>0</td>\n",
       "      <td>0</td>\n",
       "    </tr>\n",
       "    <tr>\n",
       "      <th>3</th>\n",
       "      <td>39</td>\n",
       "      <td>0</td>\n",
       "      <td>10</td>\n",
       "      <td>50</td>\n",
       "      <td>0</td>\n",
       "      <td>0</td>\n",
       "      <td>0</td>\n",
       "      <td>0</td>\n",
       "      <td>0</td>\n",
       "      <td>0</td>\n",
       "      <td>...</td>\n",
       "      <td>0</td>\n",
       "      <td>1</td>\n",
       "      <td>0</td>\n",
       "      <td>0</td>\n",
       "      <td>0</td>\n",
       "      <td>0</td>\n",
       "      <td>0</td>\n",
       "      <td>0</td>\n",
       "      <td>0</td>\n",
       "      <td>0</td>\n",
       "    </tr>\n",
       "    <tr>\n",
       "      <th>4</th>\n",
       "      <td>45</td>\n",
       "      <td>2</td>\n",
       "      <td>2</td>\n",
       "      <td>73</td>\n",
       "      <td>0</td>\n",
       "      <td>0</td>\n",
       "      <td>0</td>\n",
       "      <td>0</td>\n",
       "      <td>0</td>\n",
       "      <td>0</td>\n",
       "      <td>...</td>\n",
       "      <td>1</td>\n",
       "      <td>0</td>\n",
       "      <td>0</td>\n",
       "      <td>0</td>\n",
       "      <td>0</td>\n",
       "      <td>0</td>\n",
       "      <td>0</td>\n",
       "      <td>0</td>\n",
       "      <td>0</td>\n",
       "      <td>0</td>\n",
       "    </tr>\n",
       "  </tbody>\n",
       "</table>\n",
       "<p>5 rows × 71 columns</p>\n",
       "</div>"
      ],
      "text/plain": [
       "   age  previous_year_rating  length_of_service  avg_training_score  \\\n",
       "0   35                     4                  8                  49   \n",
       "1   30                     4                  4                  60   \n",
       "2   34                     2                  7                  50   \n",
       "3   39                     0                 10                  50   \n",
       "4   45                     2                  2                  73   \n",
       "\n",
       "   is_promoted  department_Analytics  department_Finance  department_HR  \\\n",
       "0            0                     0                   0              0   \n",
       "1            0                     0                   0              0   \n",
       "2            0                     0                   0              0   \n",
       "3            0                     0                   0              0   \n",
       "4            0                     0                   0              0   \n",
       "\n",
       "   department_Legal  department_Operations  ...  no_of_trainings_1  \\\n",
       "0                 0                      0  ...                  1   \n",
       "1                 0                      1  ...                  1   \n",
       "2                 0                      0  ...                  1   \n",
       "3                 0                      0  ...                  0   \n",
       "4                 0                      0  ...                  1   \n",
       "\n",
       "   no_of_trainings_2  no_of_trainings_3  no_of_trainings_4  no_of_trainings_5  \\\n",
       "0                  0                  0                  0                  0   \n",
       "1                  0                  0                  0                  0   \n",
       "2                  0                  0                  0                  0   \n",
       "3                  1                  0                  0                  0   \n",
       "4                  0                  0                  0                  0   \n",
       "\n",
       "   no_of_trainings_6  no_of_trainings_7  no_of_trainings_8  no_of_trainings_9  \\\n",
       "0                  0                  0                  0                  0   \n",
       "1                  0                  0                  0                  0   \n",
       "2                  0                  0                  0                  0   \n",
       "3                  0                  0                  0                  0   \n",
       "4                  0                  0                  0                  0   \n",
       "\n",
       "   no_of_trainings_10  \n",
       "0                   0  \n",
       "1                   0  \n",
       "2                   0  \n",
       "3                   0  \n",
       "4                   0  \n",
       "\n",
       "[5 rows x 71 columns]"
      ]
     },
     "execution_count": 50,
     "metadata": {},
     "output_type": "execute_result"
    }
   ],
   "source": [
    "df_train_encoded.head()"
   ]
  },
  {
   "cell_type": "code",
   "execution_count": 51,
   "id": "fb1d09b5",
   "metadata": {},
   "outputs": [],
   "source": [
    "from sklearn.model_selection import train_test_split\n",
    "X=df_train_encoded.drop(columns='is_promoted')\n",
    "y=df_train_encoded['is_promoted']\n",
    "X_train,X_test,y_train,y_test=train_test_split(X,y,test_size=0.2,random_state=2)"
   ]
  },
  {
   "cell_type": "code",
   "execution_count": 52,
   "id": "cffe10ae",
   "metadata": {},
   "outputs": [
    {
     "name": "stdout",
     "output_type": "stream",
     "text": [
      "Shape of X_train (43846, 70)\n",
      "Shape of X_test (10962, 70)\n",
      "Shape of y_train (43846,)\n",
      "Shape of y_test (10962,)\n"
     ]
    }
   ],
   "source": [
    "print('Shape of X_train',X_train.shape)\n",
    "print('Shape of X_test',X_test.shape)\n",
    "print('Shape of y_train',y_train.shape)\n",
    "print('Shape of y_test',y_test.shape)"
   ]
  },
  {
   "cell_type": "code",
   "execution_count": 53,
   "id": "e17036fa",
   "metadata": {},
   "outputs": [],
   "source": [
    "from sklearn.linear_model import LogisticRegression\n",
    "from sklearn import metrics"
   ]
  },
  {
   "cell_type": "code",
   "execution_count": 54,
   "id": "e96c82c6",
   "metadata": {},
   "outputs": [
    {
     "name": "stdout",
     "output_type": "stream",
     "text": [
      "              precision    recall  f1-score   support\n",
      "\n",
      "           0       0.94      0.99      0.96     10015\n",
      "           1       0.83      0.27      0.41       947\n",
      "\n",
      "    accuracy                           0.93     10962\n",
      "   macro avg       0.88      0.63      0.69     10962\n",
      "weighted avg       0.93      0.93      0.92     10962\n",
      "\n"
     ]
    },
    {
     "name": "stderr",
     "output_type": "stream",
     "text": [
      "/home/peru/.local/lib/python3.10/site-packages/sklearn/linear_model/_logistic.py:458: ConvergenceWarning: lbfgs failed to converge (status=1):\n",
      "STOP: TOTAL NO. of ITERATIONS REACHED LIMIT.\n",
      "\n",
      "Increase the number of iterations (max_iter) or scale the data as shown in:\n",
      "    https://scikit-learn.org/stable/modules/preprocessing.html\n",
      "Please also refer to the documentation for alternative solver options:\n",
      "    https://scikit-learn.org/stable/modules/linear_model.html#logistic-regression\n",
      "  n_iter_i = _check_optimize_result(\n"
     ]
    }
   ],
   "source": [
    "LR=LogisticRegression(max_iter=2000)\n",
    "LR.fit(X_train,y_train)\n",
    "y1_pred=LR.predict(X_test)\n",
    "print(metrics.classification_report(y_test,y1_pred))"
   ]
  },
  {
   "cell_type": "code",
   "execution_count": 55,
   "id": "1a2377c0",
   "metadata": {},
   "outputs": [
    {
     "data": {
      "text/plain": [
       "array([[9962,   53],\n",
       "       [ 692,  255]])"
      ]
     },
     "execution_count": 55,
     "metadata": {},
     "output_type": "execute_result"
    }
   ],
   "source": [
    "metrics.confusion_matrix(y_test,y1_pred)"
   ]
  },
  {
   "cell_type": "code",
   "execution_count": 56,
   "id": "79f654f2",
   "metadata": {},
   "outputs": [],
   "source": [
    "from sklearn.tree import DecisionTreeClassifier\n",
    "DTc=DecisionTreeClassifier(splitter='best')\n",
    "DTc.fit(X_train,y_train)\n",
    "y2_pred=DTc.predict(X_test)"
   ]
  },
  {
   "cell_type": "code",
   "execution_count": 57,
   "id": "89fdffa8",
   "metadata": {},
   "outputs": [
    {
     "name": "stdout",
     "output_type": "stream",
     "text": [
      "              precision    recall  f1-score   support\n",
      "\n",
      "           0       0.95      0.94      0.95     10015\n",
      "           1       0.43      0.46      0.45       947\n",
      "\n",
      "    accuracy                           0.90     10962\n",
      "   macro avg       0.69      0.70      0.70     10962\n",
      "weighted avg       0.90      0.90      0.90     10962\n",
      "\n"
     ]
    }
   ],
   "source": [
    "print(metrics.classification_report(y_test,y2_pred))"
   ]
  },
  {
   "cell_type": "code",
   "execution_count": 58,
   "id": "b5872ef8",
   "metadata": {},
   "outputs": [
    {
     "data": {
      "text/plain": [
       "array([[9435,  580],\n",
       "       [ 508,  439]])"
      ]
     },
     "execution_count": 58,
     "metadata": {},
     "output_type": "execute_result"
    }
   ],
   "source": [
    "metrics.confusion_matrix(y_test,y2_pred)"
   ]
  },
  {
   "cell_type": "code",
   "execution_count": 59,
   "id": "67d78a69",
   "metadata": {},
   "outputs": [],
   "source": [
    "from sklearn.ensemble import RandomForestClassifier\n",
    "RFc=RandomForestClassifier()\n",
    "RFc.fit(X_train,y_train)\n",
    "y3_pred=RFc.predict(X_test)"
   ]
  },
  {
   "cell_type": "code",
   "execution_count": 60,
   "id": "01b33e7e",
   "metadata": {},
   "outputs": [
    {
     "name": "stdout",
     "output_type": "stream",
     "text": [
      "              precision    recall  f1-score   support\n",
      "\n",
      "           0       0.94      0.99      0.96     10015\n",
      "           1       0.78      0.28      0.41       947\n",
      "\n",
      "    accuracy                           0.93     10962\n",
      "   macro avg       0.86      0.64      0.69     10962\n",
      "weighted avg       0.92      0.93      0.92     10962\n",
      "\n"
     ]
    }
   ],
   "source": [
    "df_check3=pd.DataFrame({'Actual':y_test, 'Predicted by RF':y3_pred})\n",
    "df_check3.head(10)\n",
    "print(metrics.classification_report(y_test,y3_pred))"
   ]
  },
  {
   "cell_type": "code",
   "execution_count": 61,
   "id": "0377955d",
   "metadata": {},
   "outputs": [
    {
     "data": {
      "text/plain": [
       "array([[9942,   73],\n",
       "       [ 683,  264]])"
      ]
     },
     "execution_count": 61,
     "metadata": {},
     "output_type": "execute_result"
    }
   ],
   "source": [
    "metrics.confusion_matrix(y_test,y3_pred)"
   ]
  },
  {
   "cell_type": "markdown",
   "id": "70b12736",
   "metadata": {},
   "source": [
    "## Recall value is really less, in both the the models.\n",
    "## This can be because of the fact that target variable is highly imbalanced. Let's try and balance the data first. "
   ]
  },
  {
   "cell_type": "code",
   "execution_count": 62,
   "id": "28f6e01f",
   "metadata": {},
   "outputs": [
    {
     "data": {
      "text/plain": [
       "(54808, 70)"
      ]
     },
     "execution_count": 62,
     "metadata": {},
     "output_type": "execute_result"
    }
   ],
   "source": [
    "X.shape"
   ]
  },
  {
   "cell_type": "code",
   "execution_count": 63,
   "id": "e84dc847",
   "metadata": {},
   "outputs": [],
   "source": [
    "from imblearn.over_sampling import RandomOverSampler\n",
    "ROS=RandomOverSampler(sampling_strategy='minority')\n",
    "X_balanced,y_balanced=ROS.fit_resample(X,y)"
   ]
  },
  {
   "cell_type": "code",
   "execution_count": 64,
   "id": "1fa9ee1a",
   "metadata": {},
   "outputs": [
    {
     "data": {
      "text/plain": [
       "((100280, 70), (100280,))"
      ]
     },
     "execution_count": 64,
     "metadata": {},
     "output_type": "execute_result"
    }
   ],
   "source": [
    "X_balanced.shape,y_balanced.shape"
   ]
  },
  {
   "cell_type": "code",
   "execution_count": 65,
   "id": "d0e8a797",
   "metadata": {},
   "outputs": [],
   "source": [
    "X1_train,X1_test,y1_train,y1_test=train_test_split(X_balanced,y_balanced, test_size=0.2, random_state=1)"
   ]
  },
  {
   "cell_type": "code",
   "execution_count": 66,
   "id": "bbed824e",
   "metadata": {},
   "outputs": [
    {
     "name": "stdout",
     "output_type": "stream",
     "text": [
      "Shape of X1_train (80224, 70)\n",
      "Shape of X1_test (20056, 70)\n",
      "Shape of y1_train (80224,)\n",
      "Shape of y1_test (20056,)\n"
     ]
    }
   ],
   "source": [
    "print('Shape of X1_train',X1_train.shape)\n",
    "print('Shape of X1_test',X1_test.shape)\n",
    "print('Shape of y1_train',y1_train.shape)\n",
    "print('Shape of y1_test',y1_test.shape)"
   ]
  },
  {
   "cell_type": "code",
   "execution_count": 67,
   "id": "f2281a48",
   "metadata": {},
   "outputs": [
    {
     "name": "stdout",
     "output_type": "stream",
     "text": [
      "              precision    recall  f1-score   support\n",
      "\n",
      "           0       0.81      0.77      0.79     10103\n",
      "           1       0.78      0.82      0.80      9953\n",
      "\n",
      "    accuracy                           0.79     20056\n",
      "   macro avg       0.79      0.79      0.79     20056\n",
      "weighted avg       0.79      0.79      0.79     20056\n",
      "\n"
     ]
    }
   ],
   "source": [
    "LR4=LogisticRegression(max_iter=3000)\n",
    "LR4.fit(X1_train,y1_train)\n",
    "y4_pred=LR4.predict(X1_test)\n",
    "print(metrics.classification_report(y1_test,y4_pred))"
   ]
  },
  {
   "cell_type": "code",
   "execution_count": 68,
   "id": "eac9f5f6",
   "metadata": {},
   "outputs": [
    {
     "name": "stdout",
     "output_type": "stream",
     "text": [
      "              precision    recall  f1-score   support\n",
      "\n",
      "           0       0.90      0.99      0.94     10103\n",
      "           1       0.99      0.89      0.94      9953\n",
      "\n",
      "    accuracy                           0.94     20056\n",
      "   macro avg       0.95      0.94      0.94     20056\n",
      "weighted avg       0.95      0.94      0.94     20056\n",
      "\n"
     ]
    }
   ],
   "source": [
    "DTc5=DecisionTreeClassifier(splitter='best')\n",
    "DTc5.fit(X1_train,y1_train)\n",
    "y5_pred=DTc.predict(X1_test)\n",
    "print(metrics.classification_report(y1_test,y5_pred))"
   ]
  },
  {
   "cell_type": "code",
   "execution_count": 69,
   "id": "3aa43921",
   "metadata": {},
   "outputs": [
    {
     "name": "stdout",
     "output_type": "stream",
     "text": [
      "              precision    recall  f1-score   support\n",
      "\n",
      "           0       0.88      1.00      0.93     10103\n",
      "           1       1.00      0.86      0.92      9953\n",
      "\n",
      "    accuracy                           0.93     20056\n",
      "   macro avg       0.94      0.93      0.93     20056\n",
      "weighted avg       0.94      0.93      0.93     20056\n",
      "\n"
     ]
    }
   ],
   "source": [
    "RFc6=RandomForestClassifier()\n",
    "RFc6.fit(X1_train,y1_train)\n",
    "y6_pred=RFc.predict(X1_test)\n",
    "print(metrics.classification_report(y1_test,y6_pred))"
   ]
  },
  {
   "cell_type": "code",
   "execution_count": 70,
   "id": "e2fd4e67",
   "metadata": {},
   "outputs": [
    {
     "name": "stdout",
     "output_type": "stream",
     "text": [
      "              precision    recall  f1-score   support\n",
      "\n",
      "           0       1.00      0.82      0.90     10103\n",
      "           1       0.84      1.00      0.91      9953\n",
      "\n",
      "    accuracy                           0.91     20056\n",
      "   macro avg       0.92      0.91      0.91     20056\n",
      "weighted avg       0.92      0.91      0.91     20056\n",
      "\n"
     ]
    }
   ],
   "source": [
    "from sklearn.neighbors import KNeighborsClassifier\n",
    "knn=KNeighborsClassifier()\n",
    "knn.fit(X1_train,y1_train)\n",
    "y7_pred=knn.predict(X1_test)\n",
    "print(metrics.classification_report(y1_test,y7_pred))"
   ]
  },
  {
   "cell_type": "code",
   "execution_count": 71,
   "id": "dce9ad16",
   "metadata": {},
   "outputs": [
    {
     "name": "stdout",
     "output_type": "stream",
     "text": [
      "              precision    recall  f1-score   support\n",
      "\n",
      "           0       0.77      0.77      0.77     10103\n",
      "           1       0.76      0.77      0.76      9953\n",
      "\n",
      "    accuracy                           0.77     20056\n",
      "   macro avg       0.77      0.77      0.77     20056\n",
      "weighted avg       0.77      0.77      0.77     20056\n",
      "\n"
     ]
    }
   ],
   "source": [
    "from sklearn.ensemble import AdaBoostClassifier\n",
    "abc=AdaBoostClassifier()\n",
    "abc.fit(X1_train,y1_train)\n",
    "y8_pred=abc.predict(X1_test)\n",
    "print(metrics.classification_report(y1_test,y8_pred))"
   ]
  },
  {
   "cell_type": "code",
   "execution_count": 72,
   "id": "efaed643",
   "metadata": {},
   "outputs": [
    {
     "name": "stdout",
     "output_type": "stream",
     "text": [
      "              precision    recall  f1-score   support\n",
      "\n",
      "           0       0.96      0.80      0.87     10103\n",
      "           1       0.83      0.97      0.89      9953\n",
      "\n",
      "    accuracy                           0.88     20056\n",
      "   macro avg       0.89      0.88      0.88     20056\n",
      "weighted avg       0.89      0.88      0.88     20056\n",
      "\n"
     ]
    }
   ],
   "source": [
    "from xgboost import XGBClassifier\n",
    "XGBc=XGBClassifier()\n",
    "XGBc.fit(X1_train,y1_train)\n",
    "y9_pred=XGBc.predict(X1_test)\n",
    "print(metrics.classification_report(y1_test,y9_pred))"
   ]
  },
  {
   "cell_type": "markdown",
   "id": "a0c3e7a6",
   "metadata": {},
   "source": [
    "## Let's check best parameters for each of these models using GridSearchCv."
   ]
  },
  {
   "cell_type": "code",
   "execution_count": 73,
   "id": "2482f0cd",
   "metadata": {},
   "outputs": [],
   "source": [
    "from sklearn.model_selection import GridSearchCV"
   ]
  },
  {
   "cell_type": "code",
   "execution_count": 74,
   "id": "240bef8b",
   "metadata": {
    "scrolled": true
   },
   "outputs": [
    {
     "name": "stderr",
     "output_type": "stream",
     "text": [
      "/home/peru/.local/lib/python3.10/site-packages/sklearn/linear_model/_logistic.py:458: ConvergenceWarning: lbfgs failed to converge (status=1):\n",
      "STOP: TOTAL NO. of ITERATIONS REACHED LIMIT.\n",
      "\n",
      "Increase the number of iterations (max_iter) or scale the data as shown in:\n",
      "    https://scikit-learn.org/stable/modules/preprocessing.html\n",
      "Please also refer to the documentation for alternative solver options:\n",
      "    https://scikit-learn.org/stable/modules/linear_model.html#logistic-regression\n",
      "  n_iter_i = _check_optimize_result(\n",
      "/home/peru/.local/lib/python3.10/site-packages/sklearn/linear_model/_logistic.py:458: ConvergenceWarning: lbfgs failed to converge (status=1):\n",
      "STOP: TOTAL NO. of ITERATIONS REACHED LIMIT.\n",
      "\n",
      "Increase the number of iterations (max_iter) or scale the data as shown in:\n",
      "    https://scikit-learn.org/stable/modules/preprocessing.html\n",
      "Please also refer to the documentation for alternative solver options:\n",
      "    https://scikit-learn.org/stable/modules/linear_model.html#logistic-regression\n",
      "  n_iter_i = _check_optimize_result(\n",
      "/home/peru/.local/lib/python3.10/site-packages/sklearn/linear_model/_logistic.py:458: ConvergenceWarning: lbfgs failed to converge (status=1):\n",
      "STOP: TOTAL NO. of ITERATIONS REACHED LIMIT.\n",
      "\n",
      "Increase the number of iterations (max_iter) or scale the data as shown in:\n",
      "    https://scikit-learn.org/stable/modules/preprocessing.html\n",
      "Please also refer to the documentation for alternative solver options:\n",
      "    https://scikit-learn.org/stable/modules/linear_model.html#logistic-regression\n",
      "  n_iter_i = _check_optimize_result(\n",
      "/home/peru/.local/lib/python3.10/site-packages/sklearn/linear_model/_logistic.py:458: ConvergenceWarning: lbfgs failed to converge (status=1):\n",
      "STOP: TOTAL NO. of ITERATIONS REACHED LIMIT.\n",
      "\n",
      "Increase the number of iterations (max_iter) or scale the data as shown in:\n",
      "    https://scikit-learn.org/stable/modules/preprocessing.html\n",
      "Please also refer to the documentation for alternative solver options:\n",
      "    https://scikit-learn.org/stable/modules/linear_model.html#logistic-regression\n",
      "  n_iter_i = _check_optimize_result(\n",
      "/home/peru/.local/lib/python3.10/site-packages/sklearn/linear_model/_logistic.py:458: ConvergenceWarning: lbfgs failed to converge (status=1):\n",
      "STOP: TOTAL NO. of ITERATIONS REACHED LIMIT.\n",
      "\n",
      "Increase the number of iterations (max_iter) or scale the data as shown in:\n",
      "    https://scikit-learn.org/stable/modules/preprocessing.html\n",
      "Please also refer to the documentation for alternative solver options:\n",
      "    https://scikit-learn.org/stable/modules/linear_model.html#logistic-regression\n",
      "  n_iter_i = _check_optimize_result(\n"
     ]
    },
    {
     "name": "stdout",
     "output_type": "stream",
     "text": [
      "0.7908481420562137\n",
      "              precision    recall  f1-score   support\n",
      "\n",
      "           0       0.81      0.77      0.79     10103\n",
      "           1       0.78      0.82      0.80      9953\n",
      "\n",
      "    accuracy                           0.79     20056\n",
      "   macro avg       0.79      0.79      0.79     20056\n",
      "weighted avg       0.79      0.79      0.79     20056\n",
      "\n"
     ]
    }
   ],
   "source": [
    "paramgrid={'penalty':['l2'],'solver': ['newton-cg', 'lbfgs', 'liblinear'],'max_iter':[1000]}\n",
    "grid_search1=GridSearchCV(LogisticRegression(random_state=1), paramgrid)\n",
    "grid_search1.fit(X1_train,y1_train)\n",
    "print(grid_search1.best_score_)\n",
    "print(metrics.classification_report(y1_test,grid_search1.best_estimator_.predict(X1_test)))"
   ]
  },
  {
   "cell_type": "code",
   "execution_count": 75,
   "id": "fdb81e9a",
   "metadata": {},
   "outputs": [
    {
     "name": "stdout",
     "output_type": "stream",
     "text": [
      "0.8853282922034508\n",
      "              precision    recall  f1-score   support\n",
      "\n",
      "           0       0.96      0.79      0.87     10103\n",
      "           1       0.82      0.97      0.89      9953\n",
      "\n",
      "    accuracy                           0.88     20056\n",
      "   macro avg       0.89      0.88      0.88     20056\n",
      "weighted avg       0.89      0.88      0.88     20056\n",
      "\n"
     ]
    }
   ],
   "source": [
    "params = {'max_depth': [2, 3, 5, 10, 20],'min_samples_leaf': [5, 10, 20, 50, 100],'criterion': [\"gini\", \"entropy\",'log_loss']}\n",
    "grid_search2 = GridSearchCV(DTc, param_grid = params, cv=5, scoring = 'f1')\n",
    "grid_search2.fit(X1_train,y1_train)\n",
    "print(grid_search2.best_score_)\n",
    "print(metrics.classification_report(y1_test,grid_search2.best_estimator_.predict(X1_test)))"
   ]
  },
  {
   "cell_type": "code",
   "execution_count": 76,
   "id": "9e15873d",
   "metadata": {},
   "outputs": [
    {
     "name": "stdout",
     "output_type": "stream",
     "text": [
      "0.7671063096373701\n",
      "              precision    recall  f1-score   support\n",
      "\n",
      "           0       0.69      0.68      0.69     10103\n",
      "           1       0.68      0.70      0.69      9953\n",
      "\n",
      "    accuracy                           0.69     20056\n",
      "   macro avg       0.69      0.69      0.69     20056\n",
      "weighted avg       0.69      0.69      0.69     20056\n",
      "\n"
     ]
    }
   ],
   "source": [
    "params={'max_depth':[1,2,3,4,5,6,7,8,9,10], 'n_estimators':[1,2,3,4,5,6,7,8,9,10,15,20,25]}\n",
    "grid_search3=GridSearchCV(RFc,param_grid=params,scoring='precision')\n",
    "grid_search3.fit(X1_train,y1_train)\n",
    "print(grid_search3.best_score_)\n",
    "print(metrics.classification_report(y1_test,grid_search3.best_estimator_.predict(X1_test)))"
   ]
  },
  {
   "cell_type": "code",
   "execution_count": null,
   "id": "d37d44a7",
   "metadata": {},
   "outputs": [],
   "source": []
  }
 ],
 "metadata": {
  "kernelspec": {
   "display_name": "Python 3 (ipykernel)",
   "language": "python",
   "name": "python3"
  },
  "language_info": {
   "codemirror_mode": {
    "name": "ipython",
    "version": 3
   },
   "file_extension": ".py",
   "mimetype": "text/x-python",
   "name": "python",
   "nbconvert_exporter": "python",
   "pygments_lexer": "ipython3",
   "version": "3.10.7"
  }
 },
 "nbformat": 4,
 "nbformat_minor": 5
}
